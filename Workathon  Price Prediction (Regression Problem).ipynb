{
 "cells": [
  {
   "cell_type": "markdown",
   "id": "625ecfab",
   "metadata": {},
   "source": [
    "## Price Prediction for workstation trips:"
   ]
  },
  {
   "cell_type": "markdown",
   "id": "c8233e40",
   "metadata": {},
   "source": [
    "### Problem Statement\n",
    "What is Workathon?\n",
    "\n",
    "Workation is the best way to work at a remote location with a recreational and rejuvenating vacation for the team. In other words, A workcation (sometimes written as workation) is a type of vacation where employees work remotely from a different location, such as a vacation rental, hotel, or even their own home.\n",
    "\n",
    "In this competition, one has to use the knowledge of machine learning, deep learning, and model building to predict the price per person for your next workstation trip. The data has more than 18000+ rows of different packages with the details like start location, hotel type, cost per person, destination, Itinerary, and many more."
   ]
  },
  {
   "cell_type": "code",
   "execution_count": 1,
   "id": "6eef249c",
   "metadata": {},
   "outputs": [],
   "source": [
    "# Importing libraries\n",
    "import numpy as np\n",
    "import pandas as pd\n",
    "import matplotlib.pyplot as plt\n",
    "import seaborn as sns\n",
    "\n",
    "import warnings\n",
    "warnings.filterwarnings(\"ignore\")"
   ]
  },
  {
   "cell_type": "code",
   "execution_count": 2,
   "id": "0cb7255c",
   "metadata": {},
   "outputs": [
    {
     "data": {
      "text/html": [
       "<div>\n",
       "<style scoped>\n",
       "    .dataframe tbody tr th:only-of-type {\n",
       "        vertical-align: middle;\n",
       "    }\n",
       "\n",
       "    .dataframe tbody tr th {\n",
       "        vertical-align: top;\n",
       "    }\n",
       "\n",
       "    .dataframe thead th {\n",
       "        text-align: right;\n",
       "    }\n",
       "</style>\n",
       "<table border=\"1\" class=\"dataframe\">\n",
       "  <thead>\n",
       "    <tr style=\"text-align: right;\">\n",
       "      <th></th>\n",
       "      <th>Uniq Id</th>\n",
       "      <th>Package Name</th>\n",
       "      <th>Package Type</th>\n",
       "      <th>Destination</th>\n",
       "      <th>Itinerary</th>\n",
       "      <th>Places Covered</th>\n",
       "      <th>Travel Date</th>\n",
       "      <th>Hotel Details</th>\n",
       "      <th>Start City</th>\n",
       "      <th>Airline</th>\n",
       "      <th>Flight Stops</th>\n",
       "      <th>Meals</th>\n",
       "      <th>Sightseeing Places Covered</th>\n",
       "      <th>Cancellation Rules</th>\n",
       "      <th>Per Person Price</th>\n",
       "    </tr>\n",
       "  </thead>\n",
       "  <tbody>\n",
       "    <tr>\n",
       "      <th>0</th>\n",
       "      <td>e788ab76d9d8cf1e6ed2f139645ca5d1</td>\n",
       "      <td>Best of Shimla and Manali Holiday from Delhi</td>\n",
       "      <td>Standard</td>\n",
       "      <td>New Delhi|Shimla|Manali|Chandigarh</td>\n",
       "      <td>1N New Delhi . 2N Shimla . 2N Manali . 1N Chan...</td>\n",
       "      <td>New Delhi|Shimla|Manali|Chandigarh</td>\n",
       "      <td>30-07-2021</td>\n",
       "      <td>Not Available</td>\n",
       "      <td>Mumbai</td>\n",
       "      <td>Not Available</td>\n",
       "      <td>2</td>\n",
       "      <td>3</td>\n",
       "      <td>Not Available</td>\n",
       "      <td>Not Available</td>\n",
       "      <td>11509.0</td>\n",
       "    </tr>\n",
       "    <tr>\n",
       "      <th>1</th>\n",
       "      <td>178f892630ce3e335a5a41d5d83937fd</td>\n",
       "      <td>Kashmir Valley vacation</td>\n",
       "      <td>Premium</td>\n",
       "      <td>Srinagar|Pahalgam|Srinagar</td>\n",
       "      <td>1N Srinagar . 2N Pahalgam . 1N Srinagar</td>\n",
       "      <td>Srinagar|Pahalgam|Srinagar</td>\n",
       "      <td>08-12-2021</td>\n",
       "      <td>The Orchard Retreat &amp; Spa:4.6|WelcomHotel Pine...</td>\n",
       "      <td>New Delhi</td>\n",
       "      <td>IndiGo|IndiGo</td>\n",
       "      <td>0</td>\n",
       "      <td>5</td>\n",
       "      <td>Dal Lake | Avantipura Ruins | Mughal Gardens ...</td>\n",
       "      <td>Cancellation any time after making the 1st pay...</td>\n",
       "      <td>22485.5</td>\n",
       "    </tr>\n",
       "    <tr>\n",
       "      <th>2</th>\n",
       "      <td>f060f2954840503cc2fdaf495357b7df</td>\n",
       "      <td>Might of Mewar- Udaipur and Chittorgarh</td>\n",
       "      <td>Luxury</td>\n",
       "      <td>Udaipur|Chittorgarh</td>\n",
       "      <td>2N Udaipur . 1N Chittorgarh</td>\n",
       "      <td>Udaipur|Chittorgarh</td>\n",
       "      <td>26-04-2021</td>\n",
       "      <td>The Ananta:4.4|juSTa Lake Nahargarh Palace:4</td>\n",
       "      <td>New Delhi</td>\n",
       "      <td>IndiGo</td>\n",
       "      <td>0</td>\n",
       "      <td>4</td>\n",
       "      <td>Lake Pichola | Jag Mandir Palace | Saheliyon ...</td>\n",
       "      <td>Cancellation any time after making the 1st pay...</td>\n",
       "      <td>12421.5</td>\n",
       "    </tr>\n",
       "    <tr>\n",
       "      <th>3</th>\n",
       "      <td>32a19a6c171e67448f2346da46c619dc</td>\n",
       "      <td>Colorful Kerala ( Romantic Getaway )</td>\n",
       "      <td>Premium</td>\n",
       "      <td>Munnar|Kumarakom|Allepey|Kovalam and Poovar</td>\n",
       "      <td>2N Munnar . 1N Kumarakom . 1N Allepey . 2N Kov...</td>\n",
       "      <td>Munnar|Kumarakom|Allepey|Kovalam and Poovar</td>\n",
       "      <td>27-08-2021</td>\n",
       "      <td>Elixir Hills Suites Resort &amp; Spa-MMT Holidays ...</td>\n",
       "      <td>New Delhi</td>\n",
       "      <td>IndiGo</td>\n",
       "      <td>0</td>\n",
       "      <td>5</td>\n",
       "      <td>Mattupetty Dam | Echo Point | Tata Tea Museum...</td>\n",
       "      <td>Cancellation any time after making the 1st pay...</td>\n",
       "      <td>35967.0</td>\n",
       "    </tr>\n",
       "    <tr>\n",
       "      <th>4</th>\n",
       "      <td>107b068aa0ca03bc6248966f594d105f</td>\n",
       "      <td>A Week In Bangkok &amp; Pattaya</td>\n",
       "      <td>Premium</td>\n",
       "      <td>Pattaya|Bangkok</td>\n",
       "      <td>4N Pattaya . 3N Bangkok</td>\n",
       "      <td>Pattaya|Bangkok</td>\n",
       "      <td>12-12-2021</td>\n",
       "      <td>Dusit Thani Pattaya - MMT Special:4.5|Amari Wa...</td>\n",
       "      <td>New Delhi</td>\n",
       "      <td>Spicejet|Go Air</td>\n",
       "      <td>0</td>\n",
       "      <td>5</td>\n",
       "      <td>Coral Island Tour with Indian Lunch, Join Spe...</td>\n",
       "      <td>Cancellation any time after making the 1st pay...</td>\n",
       "      <td>25584.0</td>\n",
       "    </tr>\n",
       "  </tbody>\n",
       "</table>\n",
       "</div>"
      ],
      "text/plain": [
       "                            Uniq Id  \\\n",
       "0  e788ab76d9d8cf1e6ed2f139645ca5d1   \n",
       "1  178f892630ce3e335a5a41d5d83937fd   \n",
       "2  f060f2954840503cc2fdaf495357b7df   \n",
       "3  32a19a6c171e67448f2346da46c619dc   \n",
       "4  107b068aa0ca03bc6248966f594d105f   \n",
       "\n",
       "                                   Package Name Package Type  \\\n",
       "0  Best of Shimla and Manali Holiday from Delhi     Standard   \n",
       "1                       Kashmir Valley vacation      Premium   \n",
       "2       Might of Mewar- Udaipur and Chittorgarh       Luxury   \n",
       "3          Colorful Kerala ( Romantic Getaway )      Premium   \n",
       "4                   A Week In Bangkok & Pattaya      Premium   \n",
       "\n",
       "                                   Destination  \\\n",
       "0           New Delhi|Shimla|Manali|Chandigarh   \n",
       "1                   Srinagar|Pahalgam|Srinagar   \n",
       "2                          Udaipur|Chittorgarh   \n",
       "3  Munnar|Kumarakom|Allepey|Kovalam and Poovar   \n",
       "4                              Pattaya|Bangkok   \n",
       "\n",
       "                                           Itinerary  \\\n",
       "0  1N New Delhi . 2N Shimla . 2N Manali . 1N Chan...   \n",
       "1            1N Srinagar . 2N Pahalgam . 1N Srinagar   \n",
       "2                        2N Udaipur . 1N Chittorgarh   \n",
       "3  2N Munnar . 1N Kumarakom . 1N Allepey . 2N Kov...   \n",
       "4                            4N Pattaya . 3N Bangkok   \n",
       "\n",
       "                                Places Covered Travel Date  \\\n",
       "0           New Delhi|Shimla|Manali|Chandigarh  30-07-2021   \n",
       "1                   Srinagar|Pahalgam|Srinagar  08-12-2021   \n",
       "2                          Udaipur|Chittorgarh  26-04-2021   \n",
       "3  Munnar|Kumarakom|Allepey|Kovalam and Poovar  27-08-2021   \n",
       "4                              Pattaya|Bangkok  12-12-2021   \n",
       "\n",
       "                                       Hotel Details Start City  \\\n",
       "0                                      Not Available     Mumbai   \n",
       "1  The Orchard Retreat & Spa:4.6|WelcomHotel Pine...  New Delhi   \n",
       "2       The Ananta:4.4|juSTa Lake Nahargarh Palace:4  New Delhi   \n",
       "3  Elixir Hills Suites Resort & Spa-MMT Holidays ...  New Delhi   \n",
       "4  Dusit Thani Pattaya - MMT Special:4.5|Amari Wa...  New Delhi   \n",
       "\n",
       "           Airline  Flight Stops  Meals  \\\n",
       "0    Not Available             2      3   \n",
       "1    IndiGo|IndiGo             0      5   \n",
       "2           IndiGo             0      4   \n",
       "3           IndiGo             0      5   \n",
       "4  Spicejet|Go Air             0      5   \n",
       "\n",
       "                          Sightseeing Places Covered  \\\n",
       "0                                      Not Available   \n",
       "1   Dal Lake | Avantipura Ruins | Mughal Gardens ...   \n",
       "2   Lake Pichola | Jag Mandir Palace | Saheliyon ...   \n",
       "3   Mattupetty Dam | Echo Point | Tata Tea Museum...   \n",
       "4   Coral Island Tour with Indian Lunch, Join Spe...   \n",
       "\n",
       "                                  Cancellation Rules  Per Person Price  \n",
       "0                                      Not Available           11509.0  \n",
       "1  Cancellation any time after making the 1st pay...           22485.5  \n",
       "2  Cancellation any time after making the 1st pay...           12421.5  \n",
       "3  Cancellation any time after making the 1st pay...           35967.0  \n",
       "4  Cancellation any time after making the 1st pay...           25584.0  "
      ]
     },
     "execution_count": 2,
     "metadata": {},
     "output_type": "execute_result"
    }
   ],
   "source": [
    "# Import the Dataset\n",
    "train = pd.read_csv(\"Train.w.csv\")\n",
    "test = pd.read_csv(\"Test.w.csv\")\n",
    "train.head()"
   ]
  },
  {
   "cell_type": "code",
   "execution_count": 3,
   "id": "b7732f4f",
   "metadata": {},
   "outputs": [
    {
     "data": {
      "text/plain": [
       "((21000, 15), (9000, 14), (30000, 15))"
      ]
     },
     "execution_count": 3,
     "metadata": {},
     "output_type": "execute_result"
    }
   ],
   "source": [
    "# Combine the Dataset\n",
    "combined = pd.concat([train, test], ignore_index = False)\n",
    "\n",
    "train.shape, test.shape, combined.shape"
   ]
  },
  {
   "cell_type": "code",
   "execution_count": 32,
   "id": "b412c603",
   "metadata": {},
   "outputs": [
    {
     "data": {
      "text/plain": [
       "Index(['Flight Stops', 'Meals', 'Per Person Price', 'Day', 'Month', 'Year',\n",
       "       'Count_Locs'],\n",
       "      dtype='object')"
      ]
     },
     "execution_count": 32,
     "metadata": {},
     "output_type": "execute_result"
    }
   ],
   "source": [
    "combined.select_dtypes(include=np.number).columns"
   ]
  },
  {
   "cell_type": "code",
   "execution_count": 33,
   "id": "9d531ecf",
   "metadata": {},
   "outputs": [
    {
     "data": {
      "text/plain": [
       "Index(['Uniq Id', 'Package Name', 'Package Type', 'Destination', 'Itinerary',\n",
       "       'Places Covered', 'Hotel Details', 'Start City', 'Airline',\n",
       "       'Sightseeing Places Covered', 'Cancellation Rules', 'Season',\n",
       "       'Day_Season', 'Flights', 'Flight_Cat'],\n",
       "      dtype='object')"
      ]
     },
     "execution_count": 33,
     "metadata": {},
     "output_type": "execute_result"
    }
   ],
   "source": [
    "combined.select_dtypes(include=\"object\").columns"
   ]
  },
  {
   "cell_type": "code",
   "execution_count": 34,
   "id": "9f4f52c2",
   "metadata": {},
   "outputs": [
    {
     "data": {
      "text/html": [
       "<div>\n",
       "<style scoped>\n",
       "    .dataframe tbody tr th:only-of-type {\n",
       "        vertical-align: middle;\n",
       "    }\n",
       "\n",
       "    .dataframe tbody tr th {\n",
       "        vertical-align: top;\n",
       "    }\n",
       "\n",
       "    .dataframe thead th {\n",
       "        text-align: right;\n",
       "    }\n",
       "</style>\n",
       "<table border=\"1\" class=\"dataframe\">\n",
       "  <thead>\n",
       "    <tr style=\"text-align: right;\">\n",
       "      <th></th>\n",
       "      <th>Flight Stops</th>\n",
       "      <th>Meals</th>\n",
       "      <th>Per Person Price</th>\n",
       "      <th>Day</th>\n",
       "      <th>Month</th>\n",
       "      <th>Year</th>\n",
       "      <th>Count_Locs</th>\n",
       "    </tr>\n",
       "  </thead>\n",
       "  <tbody>\n",
       "    <tr>\n",
       "      <th>count</th>\n",
       "      <td>30000.000000</td>\n",
       "      <td>30000.000000</td>\n",
       "      <td>21000.000000</td>\n",
       "      <td>30000.000000</td>\n",
       "      <td>30000.000000</td>\n",
       "      <td>30000.000000</td>\n",
       "      <td>30000.000000</td>\n",
       "    </tr>\n",
       "    <tr>\n",
       "      <th>mean</th>\n",
       "      <td>0.873500</td>\n",
       "      <td>3.664200</td>\n",
       "      <td>20059.330381</td>\n",
       "      <td>15.725733</td>\n",
       "      <td>6.630800</td>\n",
       "      <td>2021.039767</td>\n",
       "      <td>2.551467</td>\n",
       "    </tr>\n",
       "    <tr>\n",
       "      <th>std</th>\n",
       "      <td>0.837091</td>\n",
       "      <td>0.893979</td>\n",
       "      <td>11643.641766</td>\n",
       "      <td>8.813957</td>\n",
       "      <td>3.104912</td>\n",
       "      <td>0.195414</td>\n",
       "      <td>1.292855</td>\n",
       "    </tr>\n",
       "    <tr>\n",
       "      <th>min</th>\n",
       "      <td>0.000000</td>\n",
       "      <td>2.000000</td>\n",
       "      <td>791.000000</td>\n",
       "      <td>1.000000</td>\n",
       "      <td>1.000000</td>\n",
       "      <td>2021.000000</td>\n",
       "      <td>1.000000</td>\n",
       "    </tr>\n",
       "    <tr>\n",
       "      <th>25%</th>\n",
       "      <td>0.000000</td>\n",
       "      <td>3.000000</td>\n",
       "      <td>12461.000000</td>\n",
       "      <td>8.000000</td>\n",
       "      <td>4.000000</td>\n",
       "      <td>2021.000000</td>\n",
       "      <td>1.000000</td>\n",
       "    </tr>\n",
       "    <tr>\n",
       "      <th>50%</th>\n",
       "      <td>1.000000</td>\n",
       "      <td>3.000000</td>\n",
       "      <td>17765.500000</td>\n",
       "      <td>16.000000</td>\n",
       "      <td>7.000000</td>\n",
       "      <td>2021.000000</td>\n",
       "      <td>2.000000</td>\n",
       "    </tr>\n",
       "    <tr>\n",
       "      <th>75%</th>\n",
       "      <td>2.000000</td>\n",
       "      <td>5.000000</td>\n",
       "      <td>25081.375000</td>\n",
       "      <td>23.000000</td>\n",
       "      <td>9.000000</td>\n",
       "      <td>2021.000000</td>\n",
       "      <td>3.000000</td>\n",
       "    </tr>\n",
       "    <tr>\n",
       "      <th>max</th>\n",
       "      <td>2.000000</td>\n",
       "      <td>5.000000</td>\n",
       "      <td>171062.500000</td>\n",
       "      <td>31.000000</td>\n",
       "      <td>12.000000</td>\n",
       "      <td>2022.000000</td>\n",
       "      <td>11.000000</td>\n",
       "    </tr>\n",
       "  </tbody>\n",
       "</table>\n",
       "</div>"
      ],
      "text/plain": [
       "       Flight Stops         Meals  Per Person Price           Day  \\\n",
       "count  30000.000000  30000.000000      21000.000000  30000.000000   \n",
       "mean       0.873500      3.664200      20059.330381     15.725733   \n",
       "std        0.837091      0.893979      11643.641766      8.813957   \n",
       "min        0.000000      2.000000        791.000000      1.000000   \n",
       "25%        0.000000      3.000000      12461.000000      8.000000   \n",
       "50%        1.000000      3.000000      17765.500000     16.000000   \n",
       "75%        2.000000      5.000000      25081.375000     23.000000   \n",
       "max        2.000000      5.000000     171062.500000     31.000000   \n",
       "\n",
       "              Month          Year    Count_Locs  \n",
       "count  30000.000000  30000.000000  30000.000000  \n",
       "mean       6.630800   2021.039767      2.551467  \n",
       "std        3.104912      0.195414      1.292855  \n",
       "min        1.000000   2021.000000      1.000000  \n",
       "25%        4.000000   2021.000000      1.000000  \n",
       "50%        7.000000   2021.000000      2.000000  \n",
       "75%        9.000000   2021.000000      3.000000  \n",
       "max       12.000000   2022.000000     11.000000  "
      ]
     },
     "execution_count": 34,
     "metadata": {},
     "output_type": "execute_result"
    }
   ],
   "source": [
    "combined.describe()"
   ]
  },
  {
   "cell_type": "code",
   "execution_count": 35,
   "id": "b208e752",
   "metadata": {},
   "outputs": [
    {
     "name": "stdout",
     "output_type": "stream",
     "text": [
      "<class 'pandas.core.frame.DataFrame'>\n",
      "Int64Index: 30000 entries, 0 to 8999\n",
      "Data columns (total 23 columns):\n",
      " #   Column                      Non-Null Count  Dtype         \n",
      "---  ------                      --------------  -----         \n",
      " 0   Uniq Id                     30000 non-null  object        \n",
      " 1   Package Name                30000 non-null  object        \n",
      " 2   Package Type                30000 non-null  object        \n",
      " 3   Destination                 30000 non-null  object        \n",
      " 4   Itinerary                   30000 non-null  object        \n",
      " 5   Places Covered              30000 non-null  object        \n",
      " 6   Travel Date                 30000 non-null  datetime64[ns]\n",
      " 7   Hotel Details               30000 non-null  object        \n",
      " 8   Start City                  30000 non-null  object        \n",
      " 9   Airline                     30000 non-null  object        \n",
      " 10  Flight Stops                30000 non-null  int64         \n",
      " 11  Meals                       30000 non-null  int64         \n",
      " 12  Sightseeing Places Covered  30000 non-null  object        \n",
      " 13  Cancellation Rules          30000 non-null  object        \n",
      " 14  Per Person Price            21000 non-null  float64       \n",
      " 15  Day                         30000 non-null  int64         \n",
      " 16  Month                       30000 non-null  int64         \n",
      " 17  Year                        30000 non-null  int64         \n",
      " 18  Season                      30000 non-null  object        \n",
      " 19  Day_Season                  30000 non-null  object        \n",
      " 20  Flights                     30000 non-null  object        \n",
      " 21  Flight_Cat                  30000 non-null  object        \n",
      " 22  Count_Locs                  30000 non-null  int64         \n",
      "dtypes: datetime64[ns](1), float64(1), int64(6), object(15)\n",
      "memory usage: 5.5+ MB\n"
     ]
    }
   ],
   "source": [
    "combined.info()"
   ]
  },
  {
   "cell_type": "code",
   "execution_count": null,
   "id": "a294d6e5",
   "metadata": {},
   "outputs": [],
   "source": [
    "## feature engineering"
   ]
  },
  {
   "cell_type": "code",
   "execution_count": 4,
   "id": "d19c1933",
   "metadata": {},
   "outputs": [],
   "source": [
    "# Split the Date Component into Date, Month and Year\n",
    "combined[\"Travel Date\"] = pd.to_datetime(combined[\"Travel Date\"], \n",
    "                                         dayfirst = True)"
   ]
  },
  {
   "cell_type": "code",
   "execution_count": 5,
   "id": "38d589bd",
   "metadata": {},
   "outputs": [],
   "source": [
    "combined[\"Day\"] = combined[\"Travel Date\"].dt.day\n",
    "combined[\"Month\"] = combined[\"Travel Date\"].dt.month\n",
    "combined[\"Year\"] = combined[\"Travel Date\"].dt.year"
   ]
  },
  {
   "cell_type": "code",
   "execution_count": 6,
   "id": "e8c09b4e",
   "metadata": {},
   "outputs": [
    {
     "data": {
      "image/png": "[encoded data removed]",
      "text/plain": [
       "<Figure size 640x480 with 1 Axes>"
      ]
     },
     "metadata": {},
     "output_type": "display_data"
    }
   ],
   "source": [
    "sns.boxplot(y = \"Month\", x  =\"Per Person Price\", \n",
    "            data = combined, orient = \"h\")\n",
    "plt.show()\n",
    "\n",
    "# Jan, April, may, July, Sept, Oct and Nov "
   ]
  },
  {
   "cell_type": "code",
   "execution_count": 7,
   "id": "8bc154a7",
   "metadata": {},
   "outputs": [],
   "source": [
    "# Creating feature season showing normal and  peak months \n",
    "# peak months : Jan, April, may, July, Sept, Oct and Nov\n",
    "\n",
    "combined[\"Season\"]=  combined.Month.apply(lambda x:\"Peak_Month\" \\\n",
    "                     if x in [1, 4, 5, 7, 9, 10, 11]\n",
    "                    else \"Normal\")"
   ]
  },
  {
   "cell_type": "code",
   "execution_count": 8,
   "id": "92f20d6c",
   "metadata": {},
   "outputs": [
    {
     "data": {
      "text/plain": [
       "0       Peak_Month\n",
       "1           Normal\n",
       "2       Peak_Month\n",
       "3           Normal\n",
       "4           Normal\n",
       "           ...    \n",
       "8995        Normal\n",
       "8996        Normal\n",
       "8997        Normal\n",
       "8998        Normal\n",
       "8999        Normal\n",
       "Name: Season, Length: 30000, dtype: object"
      ]
     },
     "execution_count": 8,
     "metadata": {},
     "output_type": "execute_result"
    }
   ],
   "source": [
    "combined[\"Season\"]"
   ]
  },
  {
   "cell_type": "code",
   "execution_count": 9,
   "id": "30066785",
   "metadata": {},
   "outputs": [
    {
     "data": {
      "text/plain": [
       "<Axes: xlabel='Season', ylabel='Per Person Price'>"
      ]
     },
     "execution_count": 9,
     "metadata": {},
     "output_type": "execute_result"
    },
    {
     "data": {
      "image/png": "[encoded data removed]",
      "text/plain": [
       "<Figure size 640x480 with 1 Axes>"
      ]
     },
     "metadata": {},
     "output_type": "display_data"
    }
   ],
   "source": [
    "sns.boxplot(x = \"Season\", \n",
    "            y = \"Per Person Price\", \n",
    "            data = combined)"
   ]
  },
  {
   "cell_type": "code",
   "execution_count": 10,
   "id": "ad1bf1e1",
   "metadata": {},
   "outputs": [
    {
     "data": {
      "image/png": "[encoded data removed]",
      "text/plain": [
       "<Figure size 640x480 with 1 Axes>"
      ]
     },
     "metadata": {},
     "output_type": "display_data"
    }
   ],
   "source": [
    "sns.boxplot(y = \"Day\", x  =\"Per Person Price\", \n",
    "            data = combined, orient = \"h\")\n",
    "plt.show() # 5, 8, 10, 11, 15, 18, 19, 27, 29 and 30"
   ]
  },
  {
   "cell_type": "code",
   "execution_count": 12,
   "id": "debd7985",
   "metadata": {},
   "outputs": [],
   "source": [
    "# Feature day_season \n",
    "# Jan, April, may, July, Sept, Oct and Nov\n",
    "\n",
    "combined[\"Day_Season\"]=  combined.Day.apply(lambda x:\"Peak_Days\" \\\n",
    "                     if x in [5, 8, 10, 11, 15, \n",
    "                              18, 19, 27, 29, 30]\n",
    "                    else \"Normal_Days\")"
   ]
  },
  {
   "cell_type": "code",
   "execution_count": 13,
   "id": "8f8256af",
   "metadata": {},
   "outputs": [
    {
     "data": {
      "text/plain": [
       "<Axes: xlabel='Day_Season', ylabel='Per Person Price'>"
      ]
     },
     "execution_count": 13,
     "metadata": {},
     "output_type": "execute_result"
    },
    {
     "data": {
      "image/png": "[encoded data removed]",
      "text/plain": [
       "<Figure size 640x480 with 1 Axes>"
      ]
     },
     "metadata": {},
     "output_type": "display_data"
    }
   ],
   "source": [
    "sns.boxplot(x = \"Day_Season\", \n",
    "            y = \"Per Person Price\", \n",
    "            data = combined)"
   ]
  },
  {
   "cell_type": "code",
   "execution_count": 14,
   "id": "68da214b",
   "metadata": {},
   "outputs": [
    {
     "data": {
      "text/html": [
       "<div>\n",
       "<style scoped>\n",
       "    .dataframe tbody tr th:only-of-type {\n",
       "        vertical-align: middle;\n",
       "    }\n",
       "\n",
       "    .dataframe tbody tr th {\n",
       "        vertical-align: top;\n",
       "    }\n",
       "\n",
       "    .dataframe thead th {\n",
       "        text-align: right;\n",
       "    }\n",
       "</style>\n",
       "<table border=\"1\" class=\"dataframe\">\n",
       "  <thead>\n",
       "    <tr style=\"text-align: right;\">\n",
       "      <th></th>\n",
       "      <th>Uniq Id</th>\n",
       "      <th>Package Name</th>\n",
       "      <th>Package Type</th>\n",
       "      <th>Destination</th>\n",
       "      <th>Itinerary</th>\n",
       "      <th>Places Covered</th>\n",
       "      <th>Travel Date</th>\n",
       "      <th>Hotel Details</th>\n",
       "      <th>Start City</th>\n",
       "      <th>Airline</th>\n",
       "      <th>Flight Stops</th>\n",
       "      <th>Meals</th>\n",
       "      <th>Sightseeing Places Covered</th>\n",
       "      <th>Cancellation Rules</th>\n",
       "      <th>Per Person Price</th>\n",
       "      <th>Day</th>\n",
       "      <th>Month</th>\n",
       "      <th>Year</th>\n",
       "      <th>Season</th>\n",
       "      <th>Day_Season</th>\n",
       "    </tr>\n",
       "  </thead>\n",
       "  <tbody>\n",
       "    <tr>\n",
       "      <th>0</th>\n",
       "      <td>e788ab76d9d8cf1e6ed2f139645ca5d1</td>\n",
       "      <td>Best of Shimla and Manali Holiday from Delhi</td>\n",
       "      <td>Standard</td>\n",
       "      <td>New Delhi|Shimla|Manali|Chandigarh</td>\n",
       "      <td>1N New Delhi . 2N Shimla . 2N Manali . 1N Chan...</td>\n",
       "      <td>New Delhi|Shimla|Manali|Chandigarh</td>\n",
       "      <td>2021-07-30</td>\n",
       "      <td>Not Available</td>\n",
       "      <td>Mumbai</td>\n",
       "      <td>Not Available</td>\n",
       "      <td>2</td>\n",
       "      <td>3</td>\n",
       "      <td>Not Available</td>\n",
       "      <td>Not Available</td>\n",
       "      <td>11509.0</td>\n",
       "      <td>30</td>\n",
       "      <td>7</td>\n",
       "      <td>2021</td>\n",
       "      <td>Peak_Month</td>\n",
       "      <td>Peak_Days</td>\n",
       "    </tr>\n",
       "  </tbody>\n",
       "</table>\n",
       "</div>"
      ],
      "text/plain": [
       "                            Uniq Id  \\\n",
       "0  e788ab76d9d8cf1e6ed2f139645ca5d1   \n",
       "\n",
       "                                   Package Name Package Type  \\\n",
       "0  Best of Shimla and Manali Holiday from Delhi     Standard   \n",
       "\n",
       "                          Destination  \\\n",
       "0  New Delhi|Shimla|Manali|Chandigarh   \n",
       "\n",
       "                                           Itinerary  \\\n",
       "0  1N New Delhi . 2N Shimla . 2N Manali . 1N Chan...   \n",
       "\n",
       "                       Places Covered Travel Date  Hotel Details Start City  \\\n",
       "0  New Delhi|Shimla|Manali|Chandigarh  2021-07-30  Not Available     Mumbai   \n",
       "\n",
       "         Airline  Flight Stops  Meals Sightseeing Places Covered  \\\n",
       "0  Not Available             2      3              Not Available   \n",
       "\n",
       "  Cancellation Rules  Per Person Price  Day  Month  Year      Season  \\\n",
       "0      Not Available           11509.0   30      7  2021  Peak_Month   \n",
       "\n",
       "  Day_Season  \n",
       "0  Peak_Days  "
      ]
     },
     "execution_count": 14,
     "metadata": {},
     "output_type": "execute_result"
    }
   ],
   "source": [
    "combined.head(1)"
   ]
  },
  {
   "cell_type": "code",
   "execution_count": 16,
   "id": "8f1dcc7c",
   "metadata": {},
   "outputs": [
    {
     "data": {
      "text/plain": [
       "0       Not Available\n",
       "1              IndiGo\n",
       "2              IndiGo\n",
       "3              IndiGo\n",
       "4            Spicejet\n",
       "            ...      \n",
       "8995          Vistara\n",
       "8996           IndiGo\n",
       "8997          Vistara\n",
       "8998           IndiGo\n",
       "8999           IndiGo\n",
       "Name: 0, Length: 30000, dtype: object"
      ]
     },
     "execution_count": 16,
     "metadata": {},
     "output_type": "execute_result"
    }
   ],
   "source": [
    "# Check meals and Airline...\n",
    "combined.Airline.str.split(\"|\", \n",
    "                                                 expand = True)[0]"
   ]
  },
  {
   "cell_type": "code",
   "execution_count": 17,
   "id": "3f4ce93d",
   "metadata": {},
   "outputs": [],
   "source": [
    "combined[\"Flights\"] = combined.Airline.str.split(\"|\", \n",
    "                                                 expand = True)[0]"
   ]
  },
  {
   "cell_type": "code",
   "execution_count": 18,
   "id": "7a31eed1",
   "metadata": {},
   "outputs": [],
   "source": [
    "flight = combined.Flights.value_counts()[:5].index.to_list()"
   ]
  },
  {
   "cell_type": "code",
   "execution_count": 19,
   "id": "05d2f5ef",
   "metadata": {},
   "outputs": [],
   "source": [
    "combined[\"Flight_Cat\"] = combined.Flights.apply(lambda x:\"Top5\" \n",
    "                                                if x in flight \n",
    "                                                else \"Others\")"
   ]
  },
  {
   "cell_type": "code",
   "execution_count": 20,
   "id": "ef57ba1e",
   "metadata": {},
   "outputs": [
    {
     "data": {
      "text/plain": [
       "<Axes: xlabel='Flight_Cat', ylabel='Per Person Price'>"
      ]
     },
     "execution_count": 20,
     "metadata": {},
     "output_type": "execute_result"
    },
    {
     "data": {
      "image/png": "[encoded data removed]",
      "text/plain": [
       "<Figure size 640x480 with 1 Axes>"
      ]
     },
     "metadata": {},
     "output_type": "display_data"
    }
   ],
   "source": [
    "sns.boxplot(x = \"Flight_Cat\", \n",
    "            y = \"Per Person Price\", \n",
    "            data = combined)"
   ]
  },
  {
   "cell_type": "code",
   "execution_count": 36,
   "id": "8380fbb6",
   "metadata": {},
   "outputs": [
    {
     "data": {
      "text/plain": [
       "IndiGo           8554\n",
       "Not Available    7010\n",
       "Spicejet         6587\n",
       "Go Air           3798\n",
       "Vistara          1336\n",
       "Name: Flights, dtype: int64"
      ]
     },
     "execution_count": 36,
     "metadata": {},
     "output_type": "execute_result"
    }
   ],
   "source": [
    "combined.Flights.value_counts()[:5]"
   ]
  },
  {
   "cell_type": "code",
   "execution_count": 39,
   "id": "635ab8d8",
   "metadata": {},
   "outputs": [
    {
     "data": {
      "text/html": [
       "<div>\n",
       "<style scoped>\n",
       "    .dataframe tbody tr th:only-of-type {\n",
       "        vertical-align: middle;\n",
       "    }\n",
       "\n",
       "    .dataframe tbody tr th {\n",
       "        vertical-align: top;\n",
       "    }\n",
       "\n",
       "    .dataframe thead th {\n",
       "        text-align: right;\n",
       "    }\n",
       "</style>\n",
       "<table border=\"1\" class=\"dataframe\">\n",
       "  <thead>\n",
       "    <tr style=\"text-align: right;\">\n",
       "      <th></th>\n",
       "      <th>0</th>\n",
       "      <th>1</th>\n",
       "      <th>2</th>\n",
       "      <th>3</th>\n",
       "    </tr>\n",
       "  </thead>\n",
       "  <tbody>\n",
       "    <tr>\n",
       "      <th>0</th>\n",
       "      <td>New Delhi</td>\n",
       "      <td>Shimla</td>\n",
       "      <td>Manali</td>\n",
       "      <td>Chandigarh</td>\n",
       "    </tr>\n",
       "    <tr>\n",
       "      <th>1</th>\n",
       "      <td>Srinagar</td>\n",
       "      <td>Pahalgam</td>\n",
       "      <td>Srinagar</td>\n",
       "      <td>None</td>\n",
       "    </tr>\n",
       "    <tr>\n",
       "      <th>2</th>\n",
       "      <td>Udaipur</td>\n",
       "      <td>Chittorgarh</td>\n",
       "      <td>None</td>\n",
       "      <td>None</td>\n",
       "    </tr>\n",
       "    <tr>\n",
       "      <th>3</th>\n",
       "      <td>Munnar</td>\n",
       "      <td>Kumarakom</td>\n",
       "      <td>Allepey</td>\n",
       "      <td>Kovalam and Poovar</td>\n",
       "    </tr>\n",
       "    <tr>\n",
       "      <th>4</th>\n",
       "      <td>Pattaya</td>\n",
       "      <td>Bangkok</td>\n",
       "      <td>None</td>\n",
       "      <td>None</td>\n",
       "    </tr>\n",
       "    <tr>\n",
       "      <th>...</th>\n",
       "      <td>...</td>\n",
       "      <td>...</td>\n",
       "      <td>...</td>\n",
       "      <td>...</td>\n",
       "    </tr>\n",
       "    <tr>\n",
       "      <th>8995</th>\n",
       "      <td>Munnar</td>\n",
       "      <td>Thekkady</td>\n",
       "      <td>Allepey</td>\n",
       "      <td>None</td>\n",
       "    </tr>\n",
       "    <tr>\n",
       "      <th>8996</th>\n",
       "      <td>Srinagar</td>\n",
       "      <td>Pahalgam</td>\n",
       "      <td>Srinagar</td>\n",
       "      <td>Gulmarg</td>\n",
       "    </tr>\n",
       "    <tr>\n",
       "      <th>8997</th>\n",
       "      <td>Dharamshala</td>\n",
       "      <td>Dalhousie</td>\n",
       "      <td>None</td>\n",
       "      <td>None</td>\n",
       "    </tr>\n",
       "    <tr>\n",
       "      <th>8998</th>\n",
       "      <td>Jaipur</td>\n",
       "      <td>Jodhpur</td>\n",
       "      <td>Jaisalmer</td>\n",
       "      <td>Udaipur</td>\n",
       "    </tr>\n",
       "    <tr>\n",
       "      <th>8999</th>\n",
       "      <td>Shirdi</td>\n",
       "      <td>None</td>\n",
       "      <td>None</td>\n",
       "      <td>None</td>\n",
       "    </tr>\n",
       "  </tbody>\n",
       "</table>\n",
       "<p>30000 rows × 4 columns</p>\n",
       "</div>"
      ],
      "text/plain": [
       "                0            1          2                   3\n",
       "0       New Delhi       Shimla     Manali          Chandigarh\n",
       "1        Srinagar     Pahalgam   Srinagar                None\n",
       "2         Udaipur  Chittorgarh       None                None\n",
       "3          Munnar    Kumarakom    Allepey  Kovalam and Poovar\n",
       "4         Pattaya      Bangkok       None                None\n",
       "...           ...          ...        ...                 ...\n",
       "8995       Munnar     Thekkady    Allepey                None\n",
       "8996     Srinagar     Pahalgam   Srinagar             Gulmarg\n",
       "8997  Dharamshala    Dalhousie       None                None\n",
       "8998       Jaipur      Jodhpur  Jaisalmer             Udaipur\n",
       "8999       Shirdi         None       None                None\n",
       "\n",
       "[30000 rows x 4 columns]"
      ]
     },
     "execution_count": 39,
     "metadata": {},
     "output_type": "execute_result"
    }
   ],
   "source": [
    "# places covered\n",
    "combined[\"Places Covered\"].str.split(\"|\", expand = True).iloc[:,0:4]"
   ]
  },
  {
   "cell_type": "code",
   "execution_count": 22,
   "id": "e81c1a05",
   "metadata": {},
   "outputs": [],
   "source": [
    "# count of locations\n",
    "combined[\"Count_Locs\"]=  combined[\"Places Covered\"].\\\n",
    "apply(lambda x:len(x.split(\"|\")))"
   ]
  },
  {
   "cell_type": "code",
   "execution_count": 37,
   "id": "a8ec712a",
   "metadata": {},
   "outputs": [
    {
     "data": {
      "text/plain": [
       "0       4\n",
       "1       3\n",
       "2       2\n",
       "3       4\n",
       "4       2\n",
       "       ..\n",
       "8995    3\n",
       "8996    4\n",
       "8997    2\n",
       "8998    4\n",
       "8999    1\n",
       "Name: Count_Locs, Length: 30000, dtype: int64"
      ]
     },
     "execution_count": 37,
     "metadata": {},
     "output_type": "execute_result"
    }
   ],
   "source": [
    "combined[\"Count_Locs\"]"
   ]
  },
  {
   "cell_type": "code",
   "execution_count": null,
   "id": "f7dad045",
   "metadata": {},
   "outputs": [],
   "source": []
  },
  {
   "cell_type": "code",
   "execution_count": null,
   "id": "50a8c26e",
   "metadata": {},
   "outputs": [],
   "source": []
  },
  {
   "cell_type": "code",
   "execution_count": 23,
   "id": "91ec9231",
   "metadata": {},
   "outputs": [
    {
     "data": {
      "text/plain": [
       "<Axes: xlabel='Meals', ylabel='Per Person Price'>"
      ]
     },
     "execution_count": 23,
     "metadata": {},
     "output_type": "execute_result"
    },
    {
     "data": {
      "image/png": "[encoded data removed]",
      "text/plain": [
       "<Figure size 640x480 with 1 Axes>"
      ]
     },
     "metadata": {},
     "output_type": "display_data"
    }
   ],
   "source": [
    "# meals\n",
    "sns.boxplot(x = \"Meals\", \n",
    "            y = \"Per Person Price\", \n",
    "            data = combined)"
   ]
  },
  {
   "cell_type": "code",
   "execution_count": 42,
   "id": "688553f6",
   "metadata": {},
   "outputs": [
    {
     "data": {
      "text/html": [
       "<div>\n",
       "<style scoped>\n",
       "    .dataframe tbody tr th:only-of-type {\n",
       "        vertical-align: middle;\n",
       "    }\n",
       "\n",
       "    .dataframe tbody tr th {\n",
       "        vertical-align: top;\n",
       "    }\n",
       "\n",
       "    .dataframe thead th {\n",
       "        text-align: right;\n",
       "    }\n",
       "</style>\n",
       "<table border=\"1\" class=\"dataframe\">\n",
       "  <thead>\n",
       "    <tr style=\"text-align: right;\">\n",
       "      <th></th>\n",
       "      <th>0</th>\n",
       "      <th>1</th>\n",
       "      <th>2</th>\n",
       "      <th>3</th>\n",
       "    </tr>\n",
       "  </thead>\n",
       "  <tbody>\n",
       "    <tr>\n",
       "      <th>0</th>\n",
       "      <td>1N New Delhi</td>\n",
       "      <td>2N Shimla</td>\n",
       "      <td>2N Manali</td>\n",
       "      <td>1N Chandigarh</td>\n",
       "    </tr>\n",
       "    <tr>\n",
       "      <th>1</th>\n",
       "      <td>1N Srinagar</td>\n",
       "      <td>2N Pahalgam</td>\n",
       "      <td>1N Srinagar</td>\n",
       "      <td>None</td>\n",
       "    </tr>\n",
       "    <tr>\n",
       "      <th>2</th>\n",
       "      <td>2N Udaipur</td>\n",
       "      <td>1N Chittorgarh</td>\n",
       "      <td>None</td>\n",
       "      <td>None</td>\n",
       "    </tr>\n",
       "    <tr>\n",
       "      <th>3</th>\n",
       "      <td>2N Munnar</td>\n",
       "      <td>1N Kumarakom</td>\n",
       "      <td>1N Allepey</td>\n",
       "      <td>2N Kovalam and Poovar</td>\n",
       "    </tr>\n",
       "    <tr>\n",
       "      <th>4</th>\n",
       "      <td>4N Pattaya</td>\n",
       "      <td>3N Bangkok</td>\n",
       "      <td>None</td>\n",
       "      <td>None</td>\n",
       "    </tr>\n",
       "    <tr>\n",
       "      <th>...</th>\n",
       "      <td>...</td>\n",
       "      <td>...</td>\n",
       "      <td>...</td>\n",
       "      <td>...</td>\n",
       "    </tr>\n",
       "    <tr>\n",
       "      <th>8995</th>\n",
       "      <td>2N Munnar</td>\n",
       "      <td>1N Thekkady</td>\n",
       "      <td>1N Allepey</td>\n",
       "      <td>None</td>\n",
       "    </tr>\n",
       "    <tr>\n",
       "      <th>8996</th>\n",
       "      <td>1N Srinagar</td>\n",
       "      <td>1N Pahalgam</td>\n",
       "      <td>1N Srinagar</td>\n",
       "      <td>1N Gulmarg</td>\n",
       "    </tr>\n",
       "    <tr>\n",
       "      <th>8997</th>\n",
       "      <td>3N Dharamshala</td>\n",
       "      <td>2N Dalhousie</td>\n",
       "      <td>None</td>\n",
       "      <td>None</td>\n",
       "    </tr>\n",
       "    <tr>\n",
       "      <th>8998</th>\n",
       "      <td>2N Jaipur</td>\n",
       "      <td>1N Jodhpur</td>\n",
       "      <td>2N Jaisalmer</td>\n",
       "      <td>2N Udaipur</td>\n",
       "    </tr>\n",
       "    <tr>\n",
       "      <th>8999</th>\n",
       "      <td>2N Shirdi</td>\n",
       "      <td>None</td>\n",
       "      <td>None</td>\n",
       "      <td>None</td>\n",
       "    </tr>\n",
       "  </tbody>\n",
       "</table>\n",
       "<p>30000 rows × 4 columns</p>\n",
       "</div>"
      ],
      "text/plain": [
       "                    0                1               2                       3\n",
       "0       1N New Delhi        2N Shimla       2N Manali            1N Chandigarh\n",
       "1        1N Srinagar      2N Pahalgam      1N Srinagar                    None\n",
       "2         2N Udaipur    1N Chittorgarh            None                    None\n",
       "3          2N Munnar     1N Kumarakom      1N Allepey    2N Kovalam and Poovar\n",
       "4         4N Pattaya        3N Bangkok            None                    None\n",
       "...               ...              ...             ...                     ...\n",
       "8995       2N Munnar      1N Thekkady       1N Allepey                    None\n",
       "8996     1N Srinagar      1N Pahalgam     1N Srinagar               1N Gulmarg\n",
       "8997  3N Dharamshala      2N Dalhousie            None                    None\n",
       "8998       2N Jaipur       1N Jodhpur    2N Jaisalmer               2N Udaipur\n",
       "8999        2N Shirdi             None            None                    None\n",
       "\n",
       "[30000 rows x 4 columns]"
      ]
     },
     "execution_count": 42,
     "metadata": {},
     "output_type": "execute_result"
    }
   ],
   "source": [
    "# itenary\n",
    "combined.Itinerary.str.split(\".\", expand = True).iloc[:, 0:4]"
   ]
  },
  {
   "cell_type": "code",
   "execution_count": 27,
   "id": "79bd6b1d",
   "metadata": {},
   "outputs": [],
   "source": [
    "df = pd.DataFrame(combined.Itinerary.str.split(\".\", expand = True)[0].str.split(\"\", \n",
    "                                                              expand = True))"
   ]
  },
  {
   "cell_type": "code",
   "execution_count": 29,
   "id": "c7053cb8",
   "metadata": {},
   "outputs": [
    {
     "data": {
      "text/plain": [
       "0        \n",
       "1        \n",
       "2        \n",
       "3        \n",
       "4        \n",
       "       ..\n",
       "8995     \n",
       "8996     \n",
       "8997     \n",
       "8998     \n",
       "8999     \n",
       "Name: 0, Length: 30000, dtype: object"
      ]
     },
     "execution_count": 29,
     "metadata": {},
     "output_type": "execute_result"
    }
   ],
   "source": [
    "df[0].str.split(\"N\", expand = True)[0]"
   ]
  },
  {
   "cell_type": "code",
   "execution_count": 31,
   "id": "5624ccd9",
   "metadata": {},
   "outputs": [
    {
     "data": {
      "text/plain": [
       "0        \n",
       "1        \n",
       "2        \n",
       "3        \n",
       "4        \n",
       "       ..\n",
       "8995     \n",
       "8996     \n",
       "8997     \n",
       "8998     \n",
       "8999     \n",
       "Name: 0, Length: 30000, dtype: object"
      ]
     },
     "execution_count": 31,
     "metadata": {},
     "output_type": "execute_result"
    }
   ],
   "source": [
    "df[2].str.split(\"N\", expand = True)[0]"
   ]
  },
  {
   "cell_type": "code",
   "execution_count": 43,
   "id": "9da23172",
   "metadata": {},
   "outputs": [],
   "source": [
    "list_m=[]\n",
    "for i in range (0,11):\n",
    "    saved=combined.Itinerary.str.split(\".\",expand=True)[i].str.\\\n",
    "    split(\"N\",expand=True)[0].apply(lambda x:0 if x==None else x).astype(int)\n",
    "    list_m.append(saved)"
   ]
  },
  {
   "cell_type": "code",
   "execution_count": 44,
   "id": "1d883eee",
   "metadata": {},
   "outputs": [],
   "source": [
    "# total travel days from itenary feature\n",
    "combined[\"Total_travel_day\"]=pd.concat(list_m,axis=1).sum(axis=1)"
   ]
  },
  {
   "cell_type": "code",
   "execution_count": 47,
   "id": "e86181bf",
   "metadata": {},
   "outputs": [
    {
     "data": {
      "text/plain": [
       "<Axes: xlabel='Total_travel_day', ylabel='Per Person Price'>"
      ]
     },
     "execution_count": 47,
     "metadata": {},
     "output_type": "execute_result"
    },
    {
     "data": {
      "image/png": "[encoded data removed]",
      "text/plain": [
       "<Figure size 640x480 with 1 Axes>"
      ]
     },
     "metadata": {},
     "output_type": "display_data"
    }
   ],
   "source": [
    "sns.scatterplot(x = \"Total_travel_day\", y = \"Per Person Price\", \n",
    "              data = combined)"
   ]
  },
  {
   "cell_type": "code",
   "execution_count": null,
   "id": "c82bf40c",
   "metadata": {},
   "outputs": [],
   "source": []
  },
  {
   "cell_type": "code",
   "execution_count": 48,
   "id": "f9168d31",
   "metadata": {},
   "outputs": [
    {
     "data": {
      "text/plain": [
       "count    30000.000000\n",
       "mean         4.722133\n",
       "std          1.792381\n",
       "min          1.000000\n",
       "25%          3.000000\n",
       "50%          5.000000\n",
       "75%          6.000000\n",
       "max         14.000000\n",
       "Name: Total_travel_day, dtype: float64"
      ]
     },
     "execution_count": 48,
     "metadata": {},
     "output_type": "execute_result"
    }
   ],
   "source": [
    "combined.Total_travel_day.describe()"
   ]
  },
  {
   "cell_type": "code",
   "execution_count": 49,
   "id": "c49b5763",
   "metadata": {},
   "outputs": [],
   "source": [
    "ratings = []\n",
    "for i in range(0, 10):\n",
    "    saved = combined[\"Hotel Details\"].str.split(\":\", expand = True)[i].\\\n",
    "    str.split(\"|\", expand = True)[0].apply(lambda x: 0 if x is None else x)\n",
    "    ratings.append(saved)"
   ]
  },
  {
   "cell_type": "code",
   "execution_count": 50,
   "id": "8fed16ea",
   "metadata": {},
   "outputs": [
    {
     "data": {
      "text/plain": [
       "0                                             Not Available\n",
       "1                                 The Orchard Retreat & Spa\n",
       "2                                                The Ananta\n",
       "3         Elixir Hills Suites Resort & Spa-MMT Holidays ...\n",
       "4                         Dusit Thani Pattaya - MMT Special\n",
       "                                ...                        \n",
       "299995                                                    0\n",
       "299996                                                    0\n",
       "299997                                                    0\n",
       "299998                                                    0\n",
       "299999                                                    0\n",
       "Name: 0, Length: 300000, dtype: object"
      ]
     },
     "execution_count": 50,
     "metadata": {},
     "output_type": "execute_result"
    }
   ],
   "source": [
    "pd.concat(ratings, ignore_index = True)"
   ]
  },
  {
   "cell_type": "code",
   "execution_count": 51,
   "id": "ba199ee6",
   "metadata": {},
   "outputs": [],
   "source": [
    "ratings = []\n",
    "for i in range(0, 10):\n",
    "    ratings.append(combined[\"Hotel Details\"].\\\n",
    "                   str.split(\"|\", expand = True)\\\n",
    "    [i].str.split(\":\", expand = True)[1].\\\n",
    "                   apply(lambda x:0 if x is None else x))"
   ]
  },
  {
   "cell_type": "code",
   "execution_count": 52,
   "id": "d58a3dac",
   "metadata": {},
   "outputs": [],
   "source": [
    "combined[\"ratings\"] = pd.concat(ratings, ignore_index = True)"
   ]
  },
  {
   "cell_type": "code",
   "execution_count": 53,
   "id": "515a941e",
   "metadata": {},
   "outputs": [],
   "source": [
    "combined.ratings.replace(to_replace = [\"Four\", \"Three\", \n",
    "                                      \"Five\", 'Two', \n",
    "                                      'A member of The Leading Hotels Of The World'],\n",
    "                        value =[\"4\", \"3\", \"5\", \"2\", \"0\"], inplace = True)"
   ]
  },
  {
   "cell_type": "code",
   "execution_count": 54,
   "id": "95fc70f9",
   "metadata": {},
   "outputs": [],
   "source": [
    "combined[\"ratings\"]=pd.to_numeric(combined.ratings)"
   ]
  },
  {
   "cell_type": "code",
   "execution_count": 55,
   "id": "6718fcdc",
   "metadata": {},
   "outputs": [],
   "source": [
    "combined.ratings.fillna(0, inplace = True)"
   ]
  },
  {
   "cell_type": "code",
   "execution_count": 56,
   "id": "b3e14e04",
   "metadata": {},
   "outputs": [],
   "source": [
    "combined[\"Count_Sightseeing\"] = combined[\"Sightseeing Places Covered\"].\\\n",
    "apply(lambda x:0 if x ==\"Not Available\" \\\n",
    "else len(x.split(\"|\")))"
   ]
  },
  {
   "cell_type": "code",
   "execution_count": 57,
   "id": "f42dbd02",
   "metadata": {},
   "outputs": [
    {
     "data": {
      "image/png": "[encoded data removed]",
      "text/plain": [
       "<Figure size 640x480 with 1 Axes>"
      ]
     },
     "metadata": {},
     "output_type": "display_data"
    }
   ],
   "source": [
    "sns.boxplot(x = \"Package Type\", \n",
    "            y = \"Per Person Price\",\n",
    "           data = combined)\n",
    "plt.show()"
   ]
  },
  {
   "cell_type": "code",
   "execution_count": 58,
   "id": "f887d95a",
   "metadata": {},
   "outputs": [
    {
     "data": {
      "text/html": [
       "<div>\n",
       "<style scoped>\n",
       "    .dataframe tbody tr th:only-of-type {\n",
       "        vertical-align: middle;\n",
       "    }\n",
       "\n",
       "    .dataframe tbody tr th {\n",
       "        vertical-align: top;\n",
       "    }\n",
       "\n",
       "    .dataframe thead th {\n",
       "        text-align: right;\n",
       "    }\n",
       "</style>\n",
       "<table border=\"1\" class=\"dataframe\">\n",
       "  <thead>\n",
       "    <tr style=\"text-align: right;\">\n",
       "      <th></th>\n",
       "      <th>count</th>\n",
       "      <th>mean</th>\n",
       "      <th>std</th>\n",
       "      <th>min</th>\n",
       "      <th>25%</th>\n",
       "      <th>50%</th>\n",
       "      <th>75%</th>\n",
       "      <th>max</th>\n",
       "    </tr>\n",
       "    <tr>\n",
       "      <th>Package Type</th>\n",
       "      <th></th>\n",
       "      <th></th>\n",
       "      <th></th>\n",
       "      <th></th>\n",
       "      <th></th>\n",
       "      <th></th>\n",
       "      <th></th>\n",
       "      <th></th>\n",
       "    </tr>\n",
       "  </thead>\n",
       "  <tbody>\n",
       "    <tr>\n",
       "      <th>Budget</th>\n",
       "      <td>466.0</td>\n",
       "      <td>14151.447425</td>\n",
       "      <td>8236.467588</td>\n",
       "      <td>1757.0</td>\n",
       "      <td>8901.250</td>\n",
       "      <td>13114.25</td>\n",
       "      <td>17927.00</td>\n",
       "      <td>64008.5</td>\n",
       "    </tr>\n",
       "    <tr>\n",
       "      <th>Deluxe</th>\n",
       "      <td>6006.0</td>\n",
       "      <td>18409.508825</td>\n",
       "      <td>10228.326587</td>\n",
       "      <td>1198.0</td>\n",
       "      <td>12119.000</td>\n",
       "      <td>16426.75</td>\n",
       "      <td>22774.25</td>\n",
       "      <td>171062.5</td>\n",
       "    </tr>\n",
       "    <tr>\n",
       "      <th>Luxury</th>\n",
       "      <td>3278.0</td>\n",
       "      <td>23679.556437</td>\n",
       "      <td>11958.923869</td>\n",
       "      <td>2963.0</td>\n",
       "      <td>15471.625</td>\n",
       "      <td>22222.50</td>\n",
       "      <td>29170.75</td>\n",
       "      <td>107850.0</td>\n",
       "    </tr>\n",
       "    <tr>\n",
       "      <th>Premium</th>\n",
       "      <td>5581.0</td>\n",
       "      <td>23965.407006</td>\n",
       "      <td>13272.618593</td>\n",
       "      <td>2967.0</td>\n",
       "      <td>15232.000</td>\n",
       "      <td>21767.50</td>\n",
       "      <td>29188.00</td>\n",
       "      <td>170763.0</td>\n",
       "    </tr>\n",
       "    <tr>\n",
       "      <th>Standard</th>\n",
       "      <td>5669.0</td>\n",
       "      <td>16354.089081</td>\n",
       "      <td>9363.498521</td>\n",
       "      <td>791.0</td>\n",
       "      <td>10563.500</td>\n",
       "      <td>14729.50</td>\n",
       "      <td>19972.00</td>\n",
       "      <td>153795.0</td>\n",
       "    </tr>\n",
       "  </tbody>\n",
       "</table>\n",
       "</div>"
      ],
      "text/plain": [
       "               count          mean           std     min        25%       50%  \\\n",
       "Package Type                                                                    \n",
       "Budget         466.0  14151.447425   8236.467588  1757.0   8901.250  13114.25   \n",
       "Deluxe        6006.0  18409.508825  10228.326587  1198.0  12119.000  16426.75   \n",
       "Luxury        3278.0  23679.556437  11958.923869  2963.0  15471.625  22222.50   \n",
       "Premium       5581.0  23965.407006  13272.618593  2967.0  15232.000  21767.50   \n",
       "Standard      5669.0  16354.089081   9363.498521   791.0  10563.500  14729.50   \n",
       "\n",
       "                   75%       max  \n",
       "Package Type                      \n",
       "Budget        17927.00   64008.5  \n",
       "Deluxe        22774.25  171062.5  \n",
       "Luxury        29170.75  107850.0  \n",
       "Premium       29188.00  170763.0  \n",
       "Standard      19972.00  153795.0  "
      ]
     },
     "execution_count": 58,
     "metadata": {},
     "output_type": "execute_result"
    }
   ],
   "source": [
    "combined.groupby(\"Package Type\")[\"Per Person Price\"].describe()"
   ]
  },
  {
   "cell_type": "code",
   "execution_count": 59,
   "id": "33d243a7",
   "metadata": {},
   "outputs": [],
   "source": [
    "dict_ = {\"Luxury\": 5, \"Premium\": 4, \n",
    "         \"Deluxe\": 3, \"Standard\":2, \"Budget\":1}\n",
    "\n",
    "combined[\"Package Type\"] = combined[\"Package Type\"].map(dict_)        "
   ]
  },
  {
   "cell_type": "code",
   "execution_count": 60,
   "id": "95ee4df4",
   "metadata": {},
   "outputs": [],
   "source": [
    "#combined[\"Destination\"].apply(lambda x: len(x.split(\"|\")))\n",
    "# Hotel Count\n",
    "combined[\"Hotel_Count\"] = combined[\"Hotel Details\"].\\\n",
    "apply(lambda x: 0 if x==\"Not Available\" else len(x.split(\"|\")))"
   ]
  },
  {
   "cell_type": "code",
   "execution_count": 61,
   "id": "805225dc",
   "metadata": {},
   "outputs": [],
   "source": [
    "newdata = combined.drop(['Uniq Id', 'Package Name',\n",
    "                         'Destination', \n",
    "                         'Itinerary','Places Covered',\"Flights\", \n",
    "                         'Travel Date', 'Hotel Details',\"Start City\",\n",
    "                         'Airline', 'Sightseeing Places Covered',\n",
    "       'Cancellation Rules'], axis = 1)"
   ]
  },
  {
   "cell_type": "code",
   "execution_count": 62,
   "id": "18f3ec6f",
   "metadata": {},
   "outputs": [
    {
     "data": {
      "text/plain": [
       "(30000, 15)"
      ]
     },
     "execution_count": 62,
     "metadata": {},
     "output_type": "execute_result"
    }
   ],
   "source": [
    "newdata.shape"
   ]
  },
  {
   "cell_type": "code",
   "execution_count": 63,
   "id": "59f6ed9d",
   "metadata": {},
   "outputs": [
    {
     "data": {
      "text/plain": [
       "((21000, 15), (9000, 15), (21000, 15), (9000, 14))"
      ]
     },
     "execution_count": 63,
     "metadata": {},
     "output_type": "execute_result"
    }
   ],
   "source": [
    "# Split the Data in Train and Test\n",
    "\n",
    "newtrain = newdata.iloc[0:train.shape[0], :]\n",
    "newtest = newdata.iloc[train.shape[0]:, :]\n",
    "\n",
    "newtrain.shape, newtest.shape, train.shape, test.shape"
   ]
  },
  {
   "cell_type": "code",
   "execution_count": 64,
   "id": "09c47caa",
   "metadata": {},
   "outputs": [
    {
     "data": {
      "text/html": [
       "<div>\n",
       "<style scoped>\n",
       "    .dataframe tbody tr th:only-of-type {\n",
       "        vertical-align: middle;\n",
       "    }\n",
       "\n",
       "    .dataframe tbody tr th {\n",
       "        vertical-align: top;\n",
       "    }\n",
       "\n",
       "    .dataframe thead th {\n",
       "        text-align: right;\n",
       "    }\n",
       "</style>\n",
       "<table border=\"1\" class=\"dataframe\">\n",
       "  <thead>\n",
       "    <tr style=\"text-align: right;\">\n",
       "      <th></th>\n",
       "      <th>count</th>\n",
       "      <th>mean</th>\n",
       "      <th>std</th>\n",
       "      <th>min</th>\n",
       "      <th>25%</th>\n",
       "      <th>50%</th>\n",
       "      <th>75%</th>\n",
       "      <th>max</th>\n",
       "    </tr>\n",
       "    <tr>\n",
       "      <th>Package Type</th>\n",
       "      <th></th>\n",
       "      <th></th>\n",
       "      <th></th>\n",
       "      <th></th>\n",
       "      <th></th>\n",
       "      <th></th>\n",
       "      <th></th>\n",
       "      <th></th>\n",
       "    </tr>\n",
       "  </thead>\n",
       "  <tbody>\n",
       "    <tr>\n",
       "      <th>1</th>\n",
       "      <td>466.0</td>\n",
       "      <td>14151.447425</td>\n",
       "      <td>8236.467588</td>\n",
       "      <td>1757.0</td>\n",
       "      <td>8901.250</td>\n",
       "      <td>13114.25</td>\n",
       "      <td>17927.00</td>\n",
       "      <td>64008.5</td>\n",
       "    </tr>\n",
       "    <tr>\n",
       "      <th>2</th>\n",
       "      <td>5669.0</td>\n",
       "      <td>16354.089081</td>\n",
       "      <td>9363.498521</td>\n",
       "      <td>791.0</td>\n",
       "      <td>10563.500</td>\n",
       "      <td>14729.50</td>\n",
       "      <td>19972.00</td>\n",
       "      <td>153795.0</td>\n",
       "    </tr>\n",
       "    <tr>\n",
       "      <th>3</th>\n",
       "      <td>6006.0</td>\n",
       "      <td>18409.508825</td>\n",
       "      <td>10228.326587</td>\n",
       "      <td>1198.0</td>\n",
       "      <td>12119.000</td>\n",
       "      <td>16426.75</td>\n",
       "      <td>22774.25</td>\n",
       "      <td>171062.5</td>\n",
       "    </tr>\n",
       "    <tr>\n",
       "      <th>4</th>\n",
       "      <td>5581.0</td>\n",
       "      <td>23965.407006</td>\n",
       "      <td>13272.618593</td>\n",
       "      <td>2967.0</td>\n",
       "      <td>15232.000</td>\n",
       "      <td>21767.50</td>\n",
       "      <td>29188.00</td>\n",
       "      <td>170763.0</td>\n",
       "    </tr>\n",
       "    <tr>\n",
       "      <th>5</th>\n",
       "      <td>3278.0</td>\n",
       "      <td>23679.556437</td>\n",
       "      <td>11958.923869</td>\n",
       "      <td>2963.0</td>\n",
       "      <td>15471.625</td>\n",
       "      <td>22222.50</td>\n",
       "      <td>29170.75</td>\n",
       "      <td>107850.0</td>\n",
       "    </tr>\n",
       "  </tbody>\n",
       "</table>\n",
       "</div>"
      ],
      "text/plain": [
       "               count          mean           std     min        25%       50%  \\\n",
       "Package Type                                                                    \n",
       "1              466.0  14151.447425   8236.467588  1757.0   8901.250  13114.25   \n",
       "2             5669.0  16354.089081   9363.498521   791.0  10563.500  14729.50   \n",
       "3             6006.0  18409.508825  10228.326587  1198.0  12119.000  16426.75   \n",
       "4             5581.0  23965.407006  13272.618593  2967.0  15232.000  21767.50   \n",
       "5             3278.0  23679.556437  11958.923869  2963.0  15471.625  22222.50   \n",
       "\n",
       "                   75%       max  \n",
       "Package Type                      \n",
       "1             17927.00   64008.5  \n",
       "2             19972.00  153795.0  \n",
       "3             22774.25  171062.5  \n",
       "4             29188.00  170763.0  \n",
       "5             29170.75  107850.0  "
      ]
     },
     "execution_count": 64,
     "metadata": {},
     "output_type": "execute_result"
    }
   ],
   "source": [
    "# Per Person Stats basis Package Type\n",
    "\n",
    "newtrain.groupby(\"Package Type\")[\"Per Person Price\"].describe()"
   ]
  },
  {
   "cell_type": "code",
   "execution_count": 65,
   "id": "ac432b00",
   "metadata": {},
   "outputs": [],
   "source": [
    "newtrain[\"Package_Count\"] = newtrain.groupby(\"Package Type\")\\\n",
    "[\"Per Person Price\"].transform(\"count\")\n",
    "\n",
    "newtest[\"Package_Count\"] = newtrain.groupby(\"Package Type\")\\\n",
    "[\"Per Person Price\"].transform(\"count\")\n",
    "\n",
    "newtrain[\"Package_Min\"] = newtrain.groupby(\"Package Type\")\\\n",
    "[\"Per Person Price\"].transform(\"min\")\n",
    "\n",
    "newtest[\"Package_Min\"] = newtrain.groupby(\"Package Type\")\\\n",
    "[\"Per Person Price\"].transform(\"min\")\n",
    "\n",
    "\n",
    "newtrain[\"Package_Max\"] = newtrain.groupby(\"Package Type\")\\\n",
    "[\"Per Person Price\"].transform(\"max\")\n",
    "\n",
    "newtest[\"Package_Max\"] = newtrain.groupby(\"Package Type\")\\\n",
    "[\"Per Person Price\"].transform(\"max\")\n",
    "\n",
    "newtrain[\"Package_Mean\"] = newtrain.groupby(\"Package Type\")\\\n",
    "[\"Per Person Price\"].transform(\"mean\")\n",
    "\n",
    "newtest[\"Package_Mean\"] = newtrain.groupby(\"Package Type\")\\\n",
    "[\"Per Person Price\"].transform(\"mean\")\n",
    "\n",
    "newtrain[\"Package_Median\"] = newtrain.groupby(\"Package Type\")\\\n",
    "[\"Per Person Price\"].transform(\"median\")\n",
    "\n",
    "newtest[\"Package_Median\"] = newtrain.groupby(\"Package Type\")\\\n",
    "[\"Per Person Price\"].transform(\"median\")"
   ]
  },
  {
   "cell_type": "code",
   "execution_count": 66,
   "id": "8e41cdfc",
   "metadata": {},
   "outputs": [
    {
     "name": "stdout",
     "output_type": "stream",
     "text": [
      "<class 'pandas.core.frame.DataFrame'>\n",
      "Int64Index: 21000 entries, 0 to 20999\n",
      "Data columns (total 20 columns):\n",
      " #   Column             Non-Null Count  Dtype  \n",
      "---  ------             --------------  -----  \n",
      " 0   Package Type       21000 non-null  int64  \n",
      " 1   Flight Stops       21000 non-null  int64  \n",
      " 2   Meals              21000 non-null  int64  \n",
      " 3   Per Person Price   21000 non-null  float64\n",
      " 4   Day                21000 non-null  int64  \n",
      " 5   Month              21000 non-null  int64  \n",
      " 6   Year               21000 non-null  int64  \n",
      " 7   Season             21000 non-null  object \n",
      " 8   Day_Season         21000 non-null  object \n",
      " 9   Flight_Cat         21000 non-null  object \n",
      " 10  Count_Locs         21000 non-null  int64  \n",
      " 11  Total_travel_day   21000 non-null  int64  \n",
      " 12  ratings            21000 non-null  float64\n",
      " 13  Count_Sightseeing  21000 non-null  int64  \n",
      " 14  Hotel_Count        21000 non-null  int64  \n",
      " 15  Package_Count      21000 non-null  int64  \n",
      " 16  Package_Min        21000 non-null  float64\n",
      " 17  Package_Max        21000 non-null  float64\n",
      " 18  Package_Mean       21000 non-null  float64\n",
      " 19  Package_Median     21000 non-null  float64\n",
      "dtypes: float64(6), int64(11), object(3)\n",
      "memory usage: 3.9+ MB\n"
     ]
    }
   ],
   "source": [
    "newtrain.info()"
   ]
  },
  {
   "cell_type": "code",
   "execution_count": 67,
   "id": "6c7f3bec",
   "metadata": {},
   "outputs": [],
   "source": [
    "newtest.drop(\"Per Person Price\", axis = 1, inplace = True)\n",
    "\n",
    "dummytrain = pd.get_dummies(newtrain, drop_first = True)\n",
    "dummytest = pd.get_dummies(newtest, drop_first = True)\n",
    "\n",
    "X = dummytrain.drop(\"Per Person Price\", axis = 1)\n",
    "y = dummytrain[\"Per Person Price\"]"
   ]
  },
  {
   "cell_type": "code",
   "execution_count": 68,
   "id": "6ee7a307",
   "metadata": {},
   "outputs": [
    {
     "data": {
      "text/plain": [
       "((21000, 20), (9000, 19))"
      ]
     },
     "execution_count": 68,
     "metadata": {},
     "output_type": "execute_result"
    }
   ],
   "source": [
    "dummytrain.shape, dummytest.shape"
   ]
  },
  {
   "cell_type": "code",
   "execution_count": 69,
   "id": "f79311d3",
   "metadata": {},
   "outputs": [],
   "source": [
    "# Modelling\n",
    "\n",
    "from sklearn.linear_model import LinearRegression\n",
    "from sklearn.tree import DecisionTreeRegressor\n",
    "from sklearn.ensemble import RandomForestRegressor, GradientBoostingRegressor\n",
    "from xgboost import XGBRegressor\n"
   ]
  },
  {
   "cell_type": "code",
   "execution_count": 70,
   "id": "b7d3ca37",
   "metadata": {},
   "outputs": [],
   "source": [
    "# Base Models\n",
    "\n",
    "def base_models():\n",
    "    models = dict()\n",
    "    models[\"LR\"] = LinearRegression()\n",
    "    models[\"DTree\"] = DecisionTreeRegressor()\n",
    "    models[\"RF\"] = RandomForestRegressor()\n",
    "    models[\"GBM\"] = GradientBoostingRegressor()\n",
    "    models[\"XGB\"] = XGBRegressor()\n",
    "    return models"
   ]
  },
  {
   "cell_type": "code",
   "execution_count": 71,
   "id": "02017c65",
   "metadata": {},
   "outputs": [],
   "source": [
    "# Function to evaluate the models...\n",
    "from sklearn.model_selection import KFold, cross_val_score\n",
    "\n",
    "def eval_models(model):\n",
    "    cv = KFold(n_splits=5, shuffle = True, random_state = 1001)\n",
    "    scores = -cross_val_score(estimator = model, X = X, \n",
    "                             y = y, cv = cv,\n",
    "                            scoring=\"neg_mean_squared_error\",\n",
    "                            n_jobs=-1)\n",
    "    return scores\n",
    "    \n"
   ]
  },
  {
   "cell_type": "code",
   "execution_count": 72,
   "id": "bcd1c59a",
   "metadata": {},
   "outputs": [
    {
     "name": "stdout",
     "output_type": "stream",
     "text": [
      "LR 77063864.06682393\n",
      "DTree 84071472.34699829\n",
      "RF 72535221.06043676\n",
      "GBM 69099961.14672653\n",
      "XGB 65349127.615614384\n"
     ]
    }
   ],
   "source": [
    "# Lets use the functions to calculate the scores...\n",
    "\n",
    "models = base_models()\n",
    "\n",
    "result, names = list(), list()\n",
    "\n",
    "for name, mymodel in models.items():\n",
    "    finalscore = eval_models(mymodel)\n",
    "    result.append(finalscore)\n",
    "    names.append(name)\n",
    "    print(name, np.mean(result))"
   ]
  },
  {
   "cell_type": "code",
   "execution_count": 73,
   "id": "74658d95",
   "metadata": {},
   "outputs": [
    {
     "data": {
      "image/png": "[encoded data removed]",
      "text/plain": [
       "<Figure size 640x480 with 1 Axes>"
      ]
     },
     "metadata": {},
     "output_type": "display_data"
    }
   ],
   "source": [
    "# Plot the results...\n",
    "\n",
    "plt.boxplot(result, labels = names, showmeans = True)\n",
    "plt.xlabel(\"Models\")\n",
    "plt.ylabel(\"RMSE\")\n",
    "plt.show()"
   ]
  },
  {
   "cell_type": "code",
   "execution_count": 74,
   "id": "3d4e0606",
   "metadata": {},
   "outputs": [],
   "source": [
    "# Stacking Regressor\n",
    "from sklearn.ensemble import StackingRegressor\n",
    "GBM = GradientBoostingRegressor()\n",
    "XGB = XGBRegressor()\n",
    "RF = RandomForestRegressor()\n",
    "# ('lr', RidgeCV()),('svr', LinearSVR(dual=\"auto\", random_state=42))\n",
    "stack = StackingRegressor(estimators = [('GBM', GBM), \n",
    "                                        (\"RF\", RF)], \n",
    "                         final_estimator=XGB,\n",
    "                          cv = 5)\n",
    "\n",
    "predictions = stack.fit(X, y).predict(dummytest)"
   ]
  },
  {
   "cell_type": "code",
   "execution_count": 75,
   "id": "2d299f6e",
   "metadata": {},
   "outputs": [
    {
     "name": "stdout",
     "output_type": "stream",
     "text": [
      "4.222736610285257\n"
     ]
    }
   ],
   "source": [
    "from sklearn.model_selection import train_test_split\n",
    "\n",
    "xtrain, xtest, ytrain, ytest = train_test_split(X, y,\n",
    "                                               test_size = 0.20,\n",
    "                                               random_state = 42)\n",
    "\n",
    "xgb = XGBRegressor()\n",
    "\n",
    "from sklearn.metrics import mean_squared_error\n",
    "\n",
    "pred = xgb.fit(xtrain, ytrain).predict(xtest)\n",
    "\n",
    "print((np.sqrt(np.log(mean_squared_error(ytest, pred)))))"
   ]
  }
 ],
 "metadata": {
  "kernelspec": {
   "display_name": "Python 3 (ipykernel)",
   "language": "python",
   "name": "python3"
  },
  "language_info": {
   "codemirror_mode": {
    "name": "ipython",
    "version": 3
   },
   "file_extension": ".py",
   "mimetype": "text/x-python",
   "name": "python",
   "nbconvert_exporter": "python",
   "pygments_lexer": "ipython3",
   "version": "3.11.3"
  }
 },
 "nbformat": 4,
 "nbformat_minor": 5
}
